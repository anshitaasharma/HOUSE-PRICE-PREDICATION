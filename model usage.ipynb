{
 "cells": [
  {
   "cell_type": "code",
   "execution_count": 2,
   "id": "683e6f33-a423-44bf-8ea5-1038cc65c9a8",
   "metadata": {},
   "outputs": [],
   "source": [
    "from joblib import dump, load\n",
    "import numpy as np\n",
    "model=load('Anshita.joblib') "
   ]
  },
  {
   "cell_type": "code",
   "execution_count": 9,
   "id": "52b1225d-836c-483d-bed1-c7da2bbaf2ab",
   "metadata": {},
   "outputs": [
    {
     "data": {
      "text/plain": [
       "array([23.435])"
      ]
     },
     "execution_count": 9,
     "metadata": {},
     "output_type": "execute_result"
    }
   ],
   "source": [
    "features = np.array([[-0.42292925, -0.4898311 , -0.57719868, -0.27288841, -0.5573845 ,\n",
    "         0.13494109, -0.52225911,  0.37882487, -0.5429938 , -0.74402708,\n",
    "         0.52982668,  0.45343469, -0.81936573]])\n",
    "model.predict(features)"
   ]
  },
  {
   "cell_type": "code",
   "execution_count": null,
   "id": "28815811-1c87-44b5-b179-81173ba70626",
   "metadata": {},
   "outputs": [],
   "source": []
  },
  {
   "cell_type": "code",
   "execution_count": null,
   "id": "93830adb-d70b-48c1-b7ac-873abc59519f",
   "metadata": {},
   "outputs": [],
   "source": []
  },
  {
   "cell_type": "code",
   "execution_count": null,
   "id": "039468e7-0f18-4698-b8ca-199e95bd96fb",
   "metadata": {},
   "outputs": [],
   "source": []
  }
 ],
 "metadata": {
  "kernelspec": {
   "display_name": "Python 3 (ipykernel)",
   "language": "python",
   "name": "python3"
  },
  "language_info": {
   "codemirror_mode": {
    "name": "ipython",
    "version": 3
   },
   "file_extension": ".py",
   "mimetype": "text/x-python",
   "name": "python",
   "nbconvert_exporter": "python",
   "pygments_lexer": "ipython3",
   "version": "3.9.18"
  }
 },
 "nbformat": 4,
 "nbformat_minor": 5
}
