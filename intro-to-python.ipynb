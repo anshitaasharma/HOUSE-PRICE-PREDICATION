{
 "cells": [
  {
   "cell_type": "code",
   "execution_count": 1,
   "id": "7b6a3447-0f26-43b3-b714-50040269a992",
   "metadata": {},
   "outputs": [],
   "source": [
    "import pandas as pd"
   ]
  },
  {
   "cell_type": "code",
   "execution_count": null,
   "id": "c754b0c7-066b-4cb1-9d5e-7aaaf39a301c",
   "metadata": {},
   "outputs": [],
   "source": [
    "#2 mian datatypes\n",
    "seires"
   ]
  }
 ],
 "metadata": {
  "kernelspec": {
   "display_name": "Python 3 (ipykernel)",
   "language": "python",
   "name": "python3"
  },
  "language_info": {
   "codemirror_mode": {
    "name": "ipython",
    "version": 3
   },
   "file_extension": ".py",
   "mimetype": "text/x-python",
   "name": "python",
   "nbconvert_exporter": "python",
   "pygments_lexer": "ipython3",
   "version": "3.9.18"
  }
 },
 "nbformat": 4,
 "nbformat_minor": 5
}
