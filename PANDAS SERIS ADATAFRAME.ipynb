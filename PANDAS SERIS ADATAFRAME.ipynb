{
 "cells": [
  {
   "cell_type": "code",
   "execution_count": 6,
   "id": "e34853e4-0dcb-427a-b546-682c93c8bad0",
   "metadata": {},
   "outputs": [],
   "source": [
    "import pandas as pd"
   ]
  },
  {
   "cell_type": "code",
   "execution_count": 7,
   "id": "472dd2ee-b84b-4725-a7f0-e3a9d4361577",
   "metadata": {},
   "outputs": [],
   "source": [
    "series=pd.Series([\"BMW\",\"TOYOTA\",\"HONDA\"])"
   ]
  },
  {
   "cell_type": "code",
   "execution_count": 8,
   "id": "5e688d51-149f-4927-9482-7f6e3f0999bc",
   "metadata": {},
   "outputs": [
    {
     "data": {
      "text/plain": [
       "0       BMW\n",
       "1    TOYOTA\n",
       "2     HONDA\n",
       "dtype: object"
      ]
     },
     "execution_count": 8,
     "metadata": {},
     "output_type": "execute_result"
    }
   ],
   "source": [
    "series\n"
   ]
  },
  {
   "cell_type": "code",
   "execution_count": 9,
   "id": "f2445e7e-44b1-4c05-8a00-d3f3f550e586",
   "metadata": {},
   "outputs": [],
   "source": [
    "colours=pd.Series([\"RED\",\"bLUE\",\"WHITE\"])"
   ]
  },
  {
   "cell_type": "code",
   "execution_count": 10,
   "id": "8848c548-b0b7-4f34-b48f-a55a11e6d06b",
   "metadata": {},
   "outputs": [
    {
     "data": {
      "text/plain": [
       "0      RED\n",
       "1     bLUE\n",
       "2    WHITE\n",
       "dtype: object"
      ]
     },
     "execution_count": 10,
     "metadata": {},
     "output_type": "execute_result"
    }
   ],
   "source": [
    "colours"
   ]
  },
  {
   "cell_type": "raw",
   "id": "48b99ba4-bb2a-408c-a536-ecbcdc907944",
   "metadata": {},
   "source": [
    "car_data = pd.DataFrame({series,colours})\n",
    "car_data"
   ]
  },
  {
   "cell_type": "raw",
   "id": "3c7f1f7d-2a39-44c2-b020-960f24cd64a2",
   "metadata": {},
   "source": [
    "car_data"
   ]
  },
  {
   "cell_type": "code",
   "execution_count": null,
   "id": "2f8a02fc-dc6c-43f5-b95b-f44de71f288e",
   "metadata": {},
   "outputs": [],
   "source": []
  },
  {
   "cell_type": "code",
   "execution_count": null,
   "id": "ae9e49ca-6fd7-4167-b00a-e1a46ae4b8f7",
   "metadata": {},
   "outputs": [],
   "source": []
  }
 ],
 "metadata": {
  "kernelspec": {
   "display_name": "Python 3 (ipykernel)",
   "language": "python",
   "name": "python3"
  },
  "language_info": {
   "codemirror_mode": {
    "name": "ipython",
    "version": 3
   },
   "file_extension": ".py",
   "mimetype": "text/x-python",
   "name": "python",
   "nbconvert_exporter": "python",
   "pygments_lexer": "ipython3",
   "version": "3.9.18"
  }
 },
 "nbformat": 4,
 "nbformat_minor": 5
}
